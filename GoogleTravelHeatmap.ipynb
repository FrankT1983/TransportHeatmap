{
 "cells": [
  {
   "cell_type": "markdown",
   "metadata": {},
   "source": [
    "# Public Transporation Heatmap using Google Directions API"
   ]
  },
  {
   "cell_type": "code",
   "execution_count": null,
   "metadata": {},
   "outputs": [],
   "source": [
    "import gmaps\n",
    "import googlemaps\n",
    "from datetime import datetime\n",
    "import math\n",
    "import time\n",
    "import random # for random shuffle\n",
    "import pickle # for loading and storing of data \n",
    "import numpy # for array max"
   ]
  },
  {
   "cell_type": "markdown",
   "metadata": {},
   "source": [
    "I store my API key in a txt which is not in the Git. Simply define a variable api_key"
   ]
  },
  {
   "cell_type": "code",
   "execution_count": null,
   "metadata": {},
   "outputs": [],
   "source": [
    "data = \"\"\n",
    "with open (\"ApiKey.txt\", \"r\") as myfile:\n",
    "    lines =myfile.readlines()\n",
    "for l in lines:\n",
    "    data = data + l.strip()\n",
    "api_key = data.strip();"
   ]
  },
  {
   "cell_type": "code",
   "execution_count": null,
   "metadata": {},
   "outputs": [],
   "source": [
    "gmaps.configure(api_key=api_key) # Your Google API key\n",
    "gmapsClient = googlemaps.Client(key=api_key)"
   ]
  },
  {
   "cell_type": "markdown",
   "metadata": {},
   "source": [
    "Helper function to modify a latitude / longitude position."
   ]
  },
  {
   "cell_type": "code",
   "execution_count": null,
   "metadata": {},
   "outputs": [],
   "source": [
    "# see https://stackoverflow.com/questions/7477003/calculating-new-longitude-latitude-from-old-n-meters\n",
    "def AddToLatLng(currentPositionPair, deltaLat, deltaLong):\n",
    "    earth = 6378.137\n",
    "    pi = 3.14196\n",
    "    m = (1 / ((2 * pi / 360) * earth)) / 1000  #1 meter in degree\n",
    "\n",
    "    new_latitude = currentPositionPair[0] + (deltaLat * m);\n",
    "    latitude =currentPositionPair[1]\n",
    "    new_longitude = latitude + (deltaLong * m) / math.cos(latitude * (pi / 180));\n",
    "    return (new_latitude,new_longitude)"
   ]
  },
  {
   "cell_type": "markdown",
   "metadata": {},
   "source": [
    "Either define the start position by its latitude / longitude position."
   ]
  },
  {
   "cell_type": "code",
   "execution_count": null,
   "metadata": {},
   "outputs": [],
   "source": [
    "# use coodrinates \n",
    "startKoordinates = (52.5250871,13.3672133,17)"
   ]
  },
  {
   "cell_type": "markdown",
   "metadata": {},
   "source": [
    "Or Use Google to lookup the position"
   ]
  },
  {
   "cell_type": "code",
   "execution_count": null,
   "metadata": {},
   "outputs": [],
   "source": [
    "# retrieve coodrinates from address string\n",
    "startPoint = \"Berlin Hauptbahnhof\"\n",
    "try:\n",
    "    geocode_result = gmapsClient.geocode(startPoint)\n",
    "    startKoordinates = (float(geocode_result[0]['geometry']['location']['lat']), float(geocode_result[0]['geometry']['location']['lng']))\n",
    "except Exception as ex:\n",
    "    print(\"Could not resolve start position: \" + str(ex))"
   ]
  },
  {
   "cell_type": "code",
   "execution_count": null,
   "metadata": {},
   "outputs": [],
   "source": [
    "startTime = datetime.strptime('Aug 8 2018  1:00PM', '%b %d %Y %I:%M%p')"
   ]
  },
  {
   "cell_type": "markdown",
   "metadata": {},
   "source": [
    "Define rectangle to scan, and random shuffle the position. This way a general overview should be generated fast, which gets more and more precices."
   ]
  },
  {
   "cell_type": "code",
   "execution_count": null,
   "metadata": {},
   "outputs": [],
   "source": [
    "areaSideLenInMeter = 30000\n",
    "stepSizeInMeters= 50\n",
    "\n",
    "granulatiriy= int(areaSideLenInMeter / stepSizeInMeters)\n",
    "toCheck = []\n",
    "locations = []\n",
    "weights = []\n",
    "for lng in range(-granulatiriy,granulatiriy+1):\n",
    "    for lat in range(-granulatiriy,granulatiriy+1):\n",
    "        positionToCheck = AddToLatLng(startKoordinates,lat*stepSizeInMeters,lng*stepSizeInMeters)\n",
    "        toCheck.append(positionToCheck)\n",
    "        \n",
    "random.shuffle(toCheck)"
   ]
  },
  {
   "cell_type": "markdown",
   "metadata": {},
   "source": [
    " **Load Results** "
   ]
  },
  {
   "cell_type": "code",
   "execution_count": null,
   "metadata": {},
   "outputs": [],
   "source": [
    "infile = open(\"saveForLater\",'rb')\n",
    "loadData = pickle.load(infile)\n",
    "infile.close()\n",
    "\n",
    "toCheck= loadData[\"toCheck\"] \n",
    "locations = loadData[\"locations\"] \n",
    "weights = loadData[\"weights\"] \n",
    "startTime = loadData[\"startTime\"] \n",
    "if \"startPoint\" in loadData:\n",
    "    startPoint = loadData[\"startPoint\"] \n",
    "else:\n",
    "    startPoint = None   \n",
    "startKoordinates = loadData[\"startKoordinates\"] \n",
    "\n",
    "loadData = None\n",
    "print(\"Loctions to check: \" +str(len(toCheck)))\n",
    "print(\"Loctions already checked: \" +str(len(locations)))\n",
    "print(\"Starttime \" + str(startTime) + \" from \" + str(startKoordinates))"
   ]
  },
  {
   "cell_type": "markdown",
   "metadata": {},
   "source": [
    "Check the next **checkNext** positions for their travel time"
   ]
  },
  {
   "cell_type": "code",
   "execution_count": null,
   "metadata": {},
   "outputs": [],
   "source": [
    "checkNext = 10000\n",
    "sleepTime=2 # not sure how much my api key allows\n",
    "\n",
    "for i in range(checkNext):\n",
    "    if (len(toCheck) == 0):\n",
    "        print(\"Finished\")\n",
    "        break\n",
    "        \n",
    "    positionToCheck = toCheck.pop()\n",
    "    print(str(i) + \" Check:\" + str(positionToCheck))\n",
    "    \n",
    "    try:\n",
    "        directions_result = gmapsClient.directions(startKoordinates,positionToCheck,mode=\"transit\",departure_time=startTime)\n",
    "        #print(str(directions_result))\n",
    "        timeInSec = directions_result[0]['legs'][0]['duration']['value']\n",
    "            \n",
    "        locations.append(positionToCheck)\n",
    "        weights.append(timeInSec)            \n",
    "        print(\"Takes \" + str(timeInSec/60) + \" minutes\")\n",
    "    except Exception as ex:            \n",
    "        print(\"Could not resolve route to position: \" + str(ex))        \n",
    "    time.sleep(sleepTime)                           "
   ]
  },
  {
   "cell_type": "code",
   "execution_count": null,
   "metadata": {},
   "outputs": [],
   "source": [
    "infoString = \"Travel Time Heatmap\"\n",
    "if (startPoint):\n",
    "    infoString = infoString + \" from \" + startPoint + str(startKoordinates) \n",
    "else:\n",
    "    infoString = infoString + \" from \" + str(startKoordinates)\n",
    "infoString = infoString + \" on \" + str(startTime) + \" maximum Time is \" + str(numpy.amax(weights)/60) + \" minutes\"\n",
    "\n",
    "print(infoString)\n",
    "fig = gmaps.figure()\n",
    "heatmap = gmaps.heatmap_layer(locations,weights)\n",
    "#heatmap.dissipating = False\n",
    "heatmap.point_radius =30\n",
    "fig.add_layer(heatmap)\n",
    "fig"
   ]
  },
  {
   "cell_type": "markdown",
   "metadata": {},
   "source": [
    "**Save Results** for later refinement"
   ]
  },
  {
   "cell_type": "code",
   "execution_count": null,
   "metadata": {},
   "outputs": [],
   "source": [
    "SaveData = {}\n",
    "SaveData[\"toCheck\"] = toCheck\n",
    "SaveData[\"locations\"] = locations\n",
    "SaveData[\"weights\"] = weights\n",
    "SaveData[\"startTime\"] = startTime    \n",
    "SaveData[\"startKoordinates\"] = startKoordinates\n",
    "\n",
    "try:\n",
    "    SaveData[\"startPoint\"] = startPoint\n",
    "except NameError:\n",
    "    startPoint = None    \n",
    "\n",
    "outfile = open(\"saveForLater\",'wb')\n",
    "pickle.dump(SaveData,outfile)\n",
    "outfile.close()"
   ]
  }
 ],
 "metadata": {
  "kernelspec": {
   "display_name": "Python 3",
   "language": "python",
   "name": "python3"
  },
  "language_info": {
   "codemirror_mode": {
    "name": "ipython",
    "version": 3
   },
   "file_extension": ".py",
   "mimetype": "text/x-python",
   "name": "python",
   "nbconvert_exporter": "python",
   "pygments_lexer": "ipython3",
   "version": "3.6.4"
  }
 },
 "nbformat": 4,
 "nbformat_minor": 2
}
